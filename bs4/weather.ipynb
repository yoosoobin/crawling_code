{
 "cells": [
  {
   "cell_type": "code",
   "execution_count": 5,
   "metadata": {},
   "outputs": [
    {
     "name": "stdout",
     "output_type": "stream",
     "text": [
      "[오늘의 날씨]\n",
      "어제보다 2° 높아요  맑음 \n",
      "현재 기간 설정시작 (최저 최저기온-5°/ 최고 최고기온3°)\n"
     ]
    }
   ],
   "source": [
    "import requests\n",
    "from bs4 import BeautifulSoup\n",
    "\n",
    "\n",
    "def  scrape_weather():\n",
    "    print('[오늘의 날씨]')\n",
    "    url = 'https://search.naver.com/search.naver?sm=tab_hty.top&where=nexearch&query=%EC%84%9C%EC%9A%B8+%EB%82%A0%EC%94%A8&oquery=%EB%82%A0%EC%94%A8&tqi=hk8GRlp0Jy0ssB6D7LKssssssUw-502435'\n",
    "    res = requests.get(url)\n",
    "    res.raise_for_status()\n",
    "    soup = BeautifulSoup(res.text,'lxml')\n",
    "    cast = soup.find('p',attrs = {'class':'summary'}).get_text() # 어제보다 ~~\n",
    "    current_temp = soup.find('span',attrs = {'class':'blind'}).get_text().replace('도씨','')\n",
    "    min_temp = soup.find('span',attrs = {'class':'lowest'}).get_text() #최저온도\n",
    "    max_temp = soup.find('span',attrs = {'class':'highest'}).get_text() #최저온도\n",
    "\n",
    "    #출력\n",
    "    print(cast)\n",
    "    print('현재 {} (최저 {}/ 최고 {})'.format(current_temp,min_temp,max_temp))\n",
    "\n",
    "    \n",
    "    \n",
    "    \n",
    "if __name__ == \"__main__\":\n",
    "    scrape_weather()  # 오늘의 날씨 정보 가져오기\n",
    "\n"
   ]
  },
  {
   "cell_type": "code",
   "execution_count": null,
   "metadata": {},
   "outputs": [],
   "source": []
  }
 ],
 "metadata": {
  "interpreter": {
   "hash": "63a2fa8701088d0273300603ea724908e621c0cb8e68adc22257679c104300ae"
  },
  "kernelspec": {
   "display_name": "Python 3.8.5 64-bit ('tensorflow': conda)",
   "language": "python",
   "name": "python3"
  },
  "language_info": {
   "codemirror_mode": {
    "name": "ipython",
    "version": 3
   },
   "file_extension": ".py",
   "mimetype": "text/x-python",
   "name": "python",
   "nbconvert_exporter": "python",
   "pygments_lexer": "ipython3",
   "version": "3.8.5"
  },
  "orig_nbformat": 4
 },
 "nbformat": 4,
 "nbformat_minor": 2
}

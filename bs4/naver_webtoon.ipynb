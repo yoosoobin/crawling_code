{
 "cells": [
  {
   "cell_type": "code",
   "execution_count": 1,
   "metadata": {},
   "outputs": [
    {
     "name": "stdout",
     "output_type": "stream",
     "text": [
      "Collecting BeautifulSoup\n",
      "  Using cached BeautifulSoup-3.2.2.tar.gz (32 kB)\n",
      "  Preparing metadata (setup.py): started\n",
      "  Preparing metadata (setup.py): finished with status 'error'\n",
      "  Using cached BeautifulSoup-3.2.1.tar.gz (31 kB)\n",
      "  Preparing metadata (setup.py): started\n",
      "  Preparing metadata (setup.py): finished with status 'error'\n",
      "  Using cached BeautifulSoup-3.2.0.tar.gz (31 kB)\n",
      "  Preparing metadata (setup.py): started\n",
      "  Preparing metadata (setup.py): finished with status 'error'\n"
     ]
    },
    {
     "name": "stderr",
     "output_type": "stream",
     "text": [
      "WARNING: Ignoring invalid distribution -ython (c:\\users\\dbqhr\\anaconda3\\envs\\tensorflow\\lib\\site-packages)\n",
      "WARNING: Ignoring invalid distribution -ython (c:\\users\\dbqhr\\anaconda3\\envs\\tensorflow\\lib\\site-packages)\n",
      "  ERROR: Command errored out with exit status 1:\n",
      "   command: 'c:\\users\\dbqhr\\anaconda3\\envs\\tensorflow\\python.exe' -c 'import io, os, sys, setuptools, tokenize; sys.argv[0] = '\"'\"'C:\\\\Users\\\\dbqhr\\\\AppData\\\\Local\\\\Temp\\\\pip-install-ec7ppm2d\\\\beautifulsoup_5f16ea4e8ec8485480c4e76638643657\\\\setup.py'\"'\"'; __file__='\"'\"'C:\\\\Users\\\\dbqhr\\\\AppData\\\\Local\\\\Temp\\\\pip-install-ec7ppm2d\\\\beautifulsoup_5f16ea4e8ec8485480c4e76638643657\\\\setup.py'\"'\"';f = getattr(tokenize, '\"'\"'open'\"'\"', open)(__file__) if os.path.exists(__file__) else io.StringIO('\"'\"'from setuptools import setup; setup()'\"'\"');code = f.read().replace('\"'\"'\\r\\n'\"'\"', '\"'\"'\\n'\"'\"');f.close();exec(compile(code, __file__, '\"'\"'exec'\"'\"'))' egg_info --egg-base 'C:\\Users\\dbqhr\\AppData\\Local\\Temp\\pip-pip-egg-info-zxc8rv6m'\n",
      "       cwd: C:\\Users\\dbqhr\\AppData\\Local\\Temp\\pip-install-ec7ppm2d\\beautifulsoup_5f16ea4e8ec8485480c4e76638643657\\\n",
      "  Complete output (6 lines):\n",
      "  Traceback (most recent call last):\n",
      "    File \"<string>\", line 1, in <module>\n",
      "    File \"C:\\Users\\dbqhr\\AppData\\Local\\Temp\\pip-install-ec7ppm2d\\beautifulsoup_5f16ea4e8ec8485480c4e76638643657\\setup.py\", line 3\n",
      "      \"You're trying to run a very old release of Beautiful Soup under Python 3. This will not work.\"<>\"Please use Beautiful Soup 4, available through the pip package 'beautifulsoup4'.\"\n",
      "                                                                                                      ^\n",
      "  SyntaxError: invalid syntax\n",
      "  ----------------------------------------\n",
      "WARNING: Discarding https://files.pythonhosted.org/packages/40/f2/6c9f2f3e696ee6a1fb0e4d7850617e224ed2b0b1e872110abffeca2a09d4/BeautifulSoup-3.2.2.tar.gz#sha256=a04169602bff6e3138b1259dbbf491f5a27f9499dea9a8fbafd48843f9d89970 (from https://pypi.org/simple/beautifulsoup/). Command errored out with exit status 1: python setup.py egg_info Check the logs for full command output.\n",
      "  ERROR: Command errored out with exit status 1:\n",
      "   command: 'c:\\users\\dbqhr\\anaconda3\\envs\\tensorflow\\python.exe' -c 'import io, os, sys, setuptools, tokenize; sys.argv[0] = '\"'\"'C:\\\\Users\\\\dbqhr\\\\AppData\\\\Local\\\\Temp\\\\pip-install-ec7ppm2d\\\\beautifulsoup_96cf5131b6494da7801e4984d82cd59d\\\\setup.py'\"'\"'; __file__='\"'\"'C:\\\\Users\\\\dbqhr\\\\AppData\\\\Local\\\\Temp\\\\pip-install-ec7ppm2d\\\\beautifulsoup_96cf5131b6494da7801e4984d82cd59d\\\\setup.py'\"'\"';f = getattr(tokenize, '\"'\"'open'\"'\"', open)(__file__) if os.path.exists(__file__) else io.StringIO('\"'\"'from setuptools import setup; setup()'\"'\"');code = f.read().replace('\"'\"'\\r\\n'\"'\"', '\"'\"'\\n'\"'\"');f.close();exec(compile(code, __file__, '\"'\"'exec'\"'\"'))' egg_info --egg-base 'C:\\Users\\dbqhr\\AppData\\Local\\Temp\\pip-pip-egg-info-qhqlpbi_'\n",
      "       cwd: C:\\Users\\dbqhr\\AppData\\Local\\Temp\\pip-install-ec7ppm2d\\beautifulsoup_96cf5131b6494da7801e4984d82cd59d\\\n",
      "  Complete output (6 lines):\n",
      "  Traceback (most recent call last):\n",
      "    File \"<string>\", line 1, in <module>\n",
      "    File \"C:\\Users\\dbqhr\\AppData\\Local\\Temp\\pip-install-ec7ppm2d\\beautifulsoup_96cf5131b6494da7801e4984d82cd59d\\setup.py\", line 22\n",
      "      print \"Unit tests have failed!\"\n",
      "            ^\n",
      "  SyntaxError: Missing parentheses in call to 'print'. Did you mean print(\"Unit tests have failed!\")?\n",
      "  ----------------------------------------\n",
      "WARNING: Discarding https://files.pythonhosted.org/packages/1e/ee/295988deca1a5a7accd783d0dfe14524867e31abb05b6c0eeceee49c759d/BeautifulSoup-3.2.1.tar.gz#sha256=6a8cb4401111e011b579c8c52a51cdab970041cc543814bbd9577a4529fe1cdb (from https://pypi.org/simple/beautifulsoup/). Command errored out with exit status 1: python setup.py egg_info Check the logs for full command output.\n",
      "  ERROR: Command errored out with exit status 1:\n",
      "   command: 'c:\\users\\dbqhr\\anaconda3\\envs\\tensorflow\\python.exe' -c 'import io, os, sys, setuptools, tokenize; sys.argv[0] = '\"'\"'C:\\\\Users\\\\dbqhr\\\\AppData\\\\Local\\\\Temp\\\\pip-install-ec7ppm2d\\\\beautifulsoup_06d1c41ceaa44331a17162db66e61fcc\\\\setup.py'\"'\"'; __file__='\"'\"'C:\\\\Users\\\\dbqhr\\\\AppData\\\\Local\\\\Temp\\\\pip-install-ec7ppm2d\\\\beautifulsoup_06d1c41ceaa44331a17162db66e61fcc\\\\setup.py'\"'\"';f = getattr(tokenize, '\"'\"'open'\"'\"', open)(__file__) if os.path.exists(__file__) else io.StringIO('\"'\"'from setuptools import setup; setup()'\"'\"');code = f.read().replace('\"'\"'\\r\\n'\"'\"', '\"'\"'\\n'\"'\"');f.close();exec(compile(code, __file__, '\"'\"'exec'\"'\"'))' egg_info --egg-base 'C:\\Users\\dbqhr\\AppData\\Local\\Temp\\pip-pip-egg-info-o9zr_p_h'\n",
      "       cwd: C:\\Users\\dbqhr\\AppData\\Local\\Temp\\pip-install-ec7ppm2d\\beautifulsoup_06d1c41ceaa44331a17162db66e61fcc\\\n",
      "  Complete output (6 lines):\n",
      "  Traceback (most recent call last):\n",
      "    File \"<string>\", line 1, in <module>\n",
      "    File \"C:\\Users\\dbqhr\\AppData\\Local\\Temp\\pip-install-ec7ppm2d\\beautifulsoup_06d1c41ceaa44331a17162db66e61fcc\\setup.py\", line 22\n",
      "      print \"Unit tests have failed!\"\n",
      "            ^\n",
      "  SyntaxError: Missing parentheses in call to 'print'. Did you mean print(\"Unit tests have failed!\")?\n",
      "  ----------------------------------------\n",
      "WARNING: Discarding https://files.pythonhosted.org/packages/33/fe/15326560884f20d792d3ffc7fe8f639aab88647c9d46509a240d9bfbb6b1/BeautifulSoup-3.2.0.tar.gz#sha256=0dc52d07516c1665c9dd9f0a390a7a054bfb7b147a50b2866fb116b8909dfd37 (from https://pypi.org/simple/beautifulsoup/). Command errored out with exit status 1: python setup.py egg_info Check the logs for full command output.\n",
      "ERROR: Could not find a version that satisfies the requirement BeautifulSoup (from versions: 3.2.0, 3.2.1, 3.2.2)\n",
      "ERROR: No matching distribution found for BeautifulSoup\n",
      "WARNING: Ignoring invalid distribution -ython (c:\\users\\dbqhr\\anaconda3\\envs\\tensorflow\\lib\\site-packages)\n",
      "WARNING: Ignoring invalid distribution -ython (c:\\users\\dbqhr\\anaconda3\\envs\\tensorflow\\lib\\site-packages)\n"
     ]
    }
   ],
   "source": [
    "# !pip install BeautifulSoup\n",
    "import requests\n",
    "from bs4 import BeautifulSoup\n"
   ]
  },
  {
   "cell_type": "code",
   "execution_count": 2,
   "metadata": {},
   "outputs": [
    {
     "name": "stdout",
     "output_type": "stream",
     "text": [
      "<title>네이버 만화 &gt; 요일별  웹툰 &gt; 전체웹툰</title>\n"
     ]
    }
   ],
   "source": [
    "url = 'https://comic.naver.com/webtoon/weekday'\n",
    "res = requests.get(url)\n",
    "res.raise_for_status() # 문제있으면 바로 멈춰라\n",
    "\n",
    "soup = BeautifulSoup(res.text, 'lxml') # 우리가 가지고 온 문서를 lxml파서를 통해서 beautifulsoup객체로 만든거\n",
    "print(soup.title)"
   ]
  },
  {
   "cell_type": "code",
   "execution_count": 3,
   "metadata": {},
   "outputs": [
    {
     "name": "stdout",
     "output_type": "stream",
     "text": [
      "네이버 만화 > 요일별  웹툰 > 전체웹툰\n"
     ]
    }
   ],
   "source": [
    "print(soup.title.get_text())"
   ]
  },
  {
   "cell_type": "code",
   "execution_count": 5,
   "metadata": {},
   "outputs": [
    {
     "name": "stdout",
     "output_type": "stream",
     "text": [
      "<span>메인 메뉴로 바로가기</span>\n"
     ]
    }
   ],
   "source": [
    "print(soup.a.span)"
   ]
  },
  {
   "cell_type": "code",
   "execution_count": 6,
   "metadata": {},
   "outputs": [
    {
     "name": "stdout",
     "output_type": "stream",
     "text": [
      "{'href': '#menu', 'onclick': \"document.getElementById('menu').tabIndex=-1;document.getElementById('menu').focus();return false;\"}\n"
     ]
    }
   ],
   "source": [
    "print(soup.a.attrs)"
   ]
  },
  {
   "cell_type": "code",
   "execution_count": 7,
   "metadata": {},
   "outputs": [
    {
     "name": "stdout",
     "output_type": "stream",
     "text": [
      "#menu\n"
     ]
    }
   ],
   "source": [
    "print(soup.a['href'])  "
   ]
  },
  {
   "cell_type": "code",
   "execution_count": 11,
   "metadata": {},
   "outputs": [
    {
     "name": "stdout",
     "output_type": "stream",
     "text": [
      "<a class=\"Nbtn_upload\" href=\"/mypage/myActivity\" onclick=\"nclk_v2(event,'olk.upload');\">웹툰 올리기</a>\n",
      "<a class=\"Nbtn_upload\" href=\"/mypage/myActivity\" onclick=\"nclk_v2(event,'olk.upload');\">웹툰 올리기</a>\n"
     ]
    }
   ],
   "source": [
    "print(soup.find(\"a\",attrs = {\"class\":\"Nbtn_upload\"}))\n",
    "print(soup.find(attrs = {\"class\":\"Nbtn_upload\"}))"
   ]
  },
  {
   "cell_type": "code",
   "execution_count": 19,
   "metadata": {},
   "outputs": [
    {
     "name": "stdout",
     "output_type": "stream",
     "text": [
      "<a href=\"/webtoon/detail?titleId=736277&amp;no=110\" onclick=\"nclk_v2(event,'rnk*p.cont','736277','1')\" title=\"싸움독학-110화 : 술자리 예절!\">싸움독학-110화 : 술자리 예절!</a>\n"
     ]
    }
   ],
   "source": [
    "# print(soup.find('li',attrs = {'class':\"rank01\"}))\n",
    "rank1 = soup.find('li',attrs = {'class':\"rank01\"})\n",
    "print(rank1.a)"
   ]
  },
  {
   "cell_type": "code",
   "execution_count": 20,
   "metadata": {},
   "outputs": [
    {
     "name": "stdout",
     "output_type": "stream",
     "text": [
      "싸움독학-110화 : 술자리 예절!\n"
     ]
    }
   ],
   "source": [
    "print(rank1.a.get_text())"
   ]
  },
  {
   "cell_type": "code",
   "execution_count": 23,
   "metadata": {},
   "outputs": [],
   "source": [
    "rank2 = rank1.next_sibling.next_sibling\n",
    "rank3 = rank2.next_sibling.next_sibling"
   ]
  },
  {
   "cell_type": "code",
   "execution_count": 25,
   "metadata": {},
   "outputs": [
    {
     "name": "stdout",
     "output_type": "stream",
     "text": [
      "\n",
      "이번 생도 잘 부탁해-75화\n",
      "\n",
      " 0\n",
      "\t\t\t\t\t\t\n",
      "\t\t\t\t\t\n",
      "\t\t\t\t\n",
      "\n"
     ]
    }
   ],
   "source": [
    "print(rank3.get_text())"
   ]
  },
  {
   "cell_type": "code",
   "execution_count": 26,
   "metadata": {},
   "outputs": [],
   "source": [
    "rank2 = rank3.previous_sibling.previous_sibling"
   ]
  },
  {
   "cell_type": "code",
   "execution_count": 27,
   "metadata": {},
   "outputs": [
    {
     "name": "stdout",
     "output_type": "stream",
     "text": [
      "독립일기-시즌2 31화 에어컨 청소\n"
     ]
    }
   ],
   "source": [
    "print(rank2.a.get_text())"
   ]
  },
  {
   "cell_type": "code",
   "execution_count": 28,
   "metadata": {},
   "outputs": [
    {
     "name": "stdout",
     "output_type": "stream",
     "text": [
      "<ol class=\"asideBoxRank\" id=\"realTimeRankFavorite\">\n",
      "<li class=\"rank01\">\n",
      "<a href=\"/webtoon/detail?titleId=736277&amp;no=110\" onclick=\"nclk_v2(event,'rnk*p.cont','736277','1')\" title=\"싸움독학-110화 : 술자리 예절!\">싸움독학-110화 : 술자리 예절!</a>\n",
      "<span class=\"rankBox\">\n",
      "<img alt=\"변동없음\" height=\"10\" src=\"https://ssl.pstatic.net/static/comic/images/migration/common/arrow_no.gif\" title=\"변동없음\" width=\"7\"/> 0\n",
      "\t\t\t\t\t\t\n",
      "\t\t\t\t\t\n",
      "\t\t\t\t</span>\n",
      "</li>\n",
      "<li class=\"rank02\">\n",
      "<a href=\"/webtoon/detail?titleId=748105&amp;no=134\" onclick=\"nclk_v2(event,'rnk*p.cont','748105','2')\" title=\"독립일기-시즌2 31화 에어컨 청소\">독립일기-시즌2 31화 에어컨 청소</a>\n",
      "<span class=\"rankBox\">\n",
      "<img alt=\"변동없음\" height=\"10\" src=\"https://ssl.pstatic.net/static/comic/images/migration/common/arrow_no.gif\" title=\"변동없음\" width=\"7\"/> 0\n",
      "\t\t\t\t\t\t\n",
      "\t\t\t\t\t\n",
      "\t\t\t\t</span>\n",
      "</li>\n",
      "<li class=\"rank03\">\n",
      "<a href=\"/webtoon/detail?titleId=746858&amp;no=75\" onclick=\"nclk_v2(event,'rnk*p.cont','746858','3')\" title=\"이번 생도 잘 부탁해-75화\">이번 생도 잘 부탁해-75화</a>\n",
      "<span class=\"rankBox\">\n",
      "<img alt=\"변동없음\" height=\"10\" src=\"https://ssl.pstatic.net/static/comic/images/migration/common/arrow_no.gif\" title=\"변동없음\" width=\"7\"/> 0\n",
      "\t\t\t\t\t\t\n",
      "\t\t\t\t\t\n",
      "\t\t\t\t</span>\n",
      "</li>\n",
      "<li class=\"rank04\">\n",
      "<a href=\"/webtoon/detail?titleId=758150&amp;no=60\" onclick=\"nclk_v2(event,'rnk*p.cont','758150','4')\" title=\"입학용병-59화\">입학용병-59화</a>\n",
      "<span class=\"rankBox\">\n",
      "<img alt=\"변동없음\" height=\"10\" src=\"https://ssl.pstatic.net/static/comic/images/migration/common/arrow_no.gif\" title=\"변동없음\" width=\"7\"/> 0\n",
      "\t\t\t\t\t\t\n",
      "\t\t\t\t\t\n",
      "\t\t\t\t</span>\n",
      "</li>\n",
      "<li class=\"rank05\">\n",
      "<a href=\"/webtoon/detail?titleId=783051&amp;no=7\" onclick=\"nclk_v2(event,'rnk*p.cont','783051','5')\" title=\"존망코인-7화 자 드가자~\">존망코인-7화 자 드가자~</a>\n",
      "<span class=\"rankBox\">\n",
      "<img alt=\"변동없음\" height=\"10\" src=\"https://ssl.pstatic.net/static/comic/images/migration/common/arrow_no.gif\" title=\"변동없음\" width=\"7\"/> 0\n",
      "\t\t\t\t\t\t\n",
      "\t\t\t\t\t\n",
      "\t\t\t\t</span>\n",
      "</li>\n",
      "<li class=\"rank06\">\n",
      "<a href=\"/webtoon/detail?titleId=774044&amp;no=26\" onclick=\"nclk_v2(event,'rnk*p.cont','774044','6')\" title=\"투신전생기-26화\">투신전생기-26화</a>\n",
      "<span class=\"rankBox\">\n",
      "<img alt=\"변동없음\" height=\"10\" src=\"https://ssl.pstatic.net/static/comic/images/migration/common/arrow_no.gif\" title=\"변동없음\" width=\"7\"/> 0\n",
      "\t\t\t\t\t\t\n",
      "\t\t\t\t\t\n",
      "\t\t\t\t</span>\n",
      "</li>\n",
      "<li class=\"rank07\">\n",
      "<a href=\"/webtoon/detail?titleId=784129&amp;no=7\" onclick=\"nclk_v2(event,'rnk*p.cont','784129','7')\" title=\"그 해 우리는 - 초여름이 좋아!-7화\">그 해 우리는 - 초여름이 좋아!-7화</a>\n",
      "<span class=\"rankBox\">\n",
      "<img alt=\"변동없음\" height=\"10\" src=\"https://ssl.pstatic.net/static/comic/images/migration/common/arrow_no.gif\" title=\"변동없음\" width=\"7\"/> 0\n",
      "\t\t\t\t\t\t\n",
      "\t\t\t\t\t\n",
      "\t\t\t\t</span>\n",
      "</li>\n",
      "<li class=\"rank08\">\n",
      "<a href=\"/webtoon/detail?titleId=710751&amp;no=171\" onclick=\"nclk_v2(event,'rnk*p.cont','710751','8')\" title=\"약한영웅-170화\">약한영웅-170화</a>\n",
      "<span class=\"rankBox\">\n",
      "<img alt=\"변동없음\" height=\"10\" src=\"https://ssl.pstatic.net/static/comic/images/migration/common/arrow_no.gif\" title=\"변동없음\" width=\"7\"/> 0\n",
      "\t\t\t\t\t\t\n",
      "\t\t\t\t\t\n",
      "\t\t\t\t</span>\n",
      "</li>\n",
      "<li class=\"rank09\">\n",
      "<a href=\"/webtoon/detail?titleId=774831&amp;no=25\" onclick=\"nclk_v2(event,'rnk*p.cont','774831','9')\" title=\"수희0(tngmlek0)-25화\">수희0(tngmlek0)-25화</a>\n",
      "<span class=\"rankBox\">\n",
      "<img alt=\"변동없음\" height=\"10\" src=\"https://ssl.pstatic.net/static/comic/images/migration/common/arrow_no.gif\" title=\"변동없음\" width=\"7\"/> 0\n",
      "\t\t\t\t\t\t\n",
      "\t\t\t\t\t\n",
      "\t\t\t\t</span>\n",
      "</li>\n",
      "<li class=\"rank10\">\n",
      "<a href=\"/webtoon/detail?titleId=761104&amp;no=57\" onclick=\"nclk_v2(event,'rnk*p.cont','761104','10')\" title=\"곱게 키웠더니, 짐승-57화\">곱게 키웠더니, 짐승-57화</a>\n",
      "<span class=\"rankBox\">\n",
      "<img alt=\"변동없음\" height=\"10\" src=\"https://ssl.pstatic.net/static/comic/images/migration/common/arrow_no.gif\" title=\"변동없음\" width=\"7\"/> 0\n",
      "\t\t\t\t\t\t\n",
      "\t\t\t\t\t\n",
      "\t\t\t\t</span>\n",
      "</li>\n",
      "</ol>\n"
     ]
    }
   ],
   "source": [
    " print(rank1.parent)"
   ]
  },
  {
   "cell_type": "code",
   "execution_count": 30,
   "metadata": {},
   "outputs": [
    {
     "name": "stdout",
     "output_type": "stream",
     "text": [
      "독립일기-시즌2 31화 에어컨 청소\n"
     ]
    }
   ],
   "source": [
    "rank2 = rank1.find_next_sibling(\"li\")\n",
    "print(rank2.a.get_text())"
   ]
  },
  {
   "cell_type": "code",
   "execution_count": 31,
   "metadata": {},
   "outputs": [
    {
     "name": "stdout",
     "output_type": "stream",
     "text": [
      "이번 생도 잘 부탁해-75화\n"
     ]
    }
   ],
   "source": [
    "rank3 = rank2.find_next_sibling('li')\n",
    "print(rank3.a.get_text())"
   ]
  },
  {
   "cell_type": "code",
   "execution_count": 32,
   "metadata": {},
   "outputs": [
    {
     "name": "stdout",
     "output_type": "stream",
     "text": [
      "독립일기-시즌2 31화 에어컨 청소\n"
     ]
    }
   ],
   "source": [
    "rank2 = rank3.find_previous_sibling('li')\n",
    "print(rank2.a.get_text())"
   ]
  },
  {
   "cell_type": "code",
   "execution_count": 34,
   "metadata": {},
   "outputs": [
    {
     "data": {
      "text/plain": [
       "[<li class=\"rank02\">\n",
       " <a href=\"/webtoon/detail?titleId=748105&amp;no=134\" onclick=\"nclk_v2(event,'rnk*p.cont','748105','2')\" title=\"독립일기-시즌2 31화 에어컨 청소\">독립일기-시즌2 31화 에어컨 청소</a>\n",
       " <span class=\"rankBox\">\n",
       " <img alt=\"변동없음\" height=\"10\" src=\"https://ssl.pstatic.net/static/comic/images/migration/common/arrow_no.gif\" title=\"변동없음\" width=\"7\"/> 0\n",
       " \t\t\t\t\t\t\n",
       " \t\t\t\t\t\n",
       " \t\t\t\t</span>\n",
       " </li>,\n",
       " <li class=\"rank03\">\n",
       " <a href=\"/webtoon/detail?titleId=746858&amp;no=75\" onclick=\"nclk_v2(event,'rnk*p.cont','746858','3')\" title=\"이번 생도 잘 부탁해-75화\">이번 생도 잘 부탁해-75화</a>\n",
       " <span class=\"rankBox\">\n",
       " <img alt=\"변동없음\" height=\"10\" src=\"https://ssl.pstatic.net/static/comic/images/migration/common/arrow_no.gif\" title=\"변동없음\" width=\"7\"/> 0\n",
       " \t\t\t\t\t\t\n",
       " \t\t\t\t\t\n",
       " \t\t\t\t</span>\n",
       " </li>,\n",
       " <li class=\"rank04\">\n",
       " <a href=\"/webtoon/detail?titleId=758150&amp;no=60\" onclick=\"nclk_v2(event,'rnk*p.cont','758150','4')\" title=\"입학용병-59화\">입학용병-59화</a>\n",
       " <span class=\"rankBox\">\n",
       " <img alt=\"변동없음\" height=\"10\" src=\"https://ssl.pstatic.net/static/comic/images/migration/common/arrow_no.gif\" title=\"변동없음\" width=\"7\"/> 0\n",
       " \t\t\t\t\t\t\n",
       " \t\t\t\t\t\n",
       " \t\t\t\t</span>\n",
       " </li>,\n",
       " <li class=\"rank05\">\n",
       " <a href=\"/webtoon/detail?titleId=783051&amp;no=7\" onclick=\"nclk_v2(event,'rnk*p.cont','783051','5')\" title=\"존망코인-7화 자 드가자~\">존망코인-7화 자 드가자~</a>\n",
       " <span class=\"rankBox\">\n",
       " <img alt=\"변동없음\" height=\"10\" src=\"https://ssl.pstatic.net/static/comic/images/migration/common/arrow_no.gif\" title=\"변동없음\" width=\"7\"/> 0\n",
       " \t\t\t\t\t\t\n",
       " \t\t\t\t\t\n",
       " \t\t\t\t</span>\n",
       " </li>,\n",
       " <li class=\"rank06\">\n",
       " <a href=\"/webtoon/detail?titleId=774044&amp;no=26\" onclick=\"nclk_v2(event,'rnk*p.cont','774044','6')\" title=\"투신전생기-26화\">투신전생기-26화</a>\n",
       " <span class=\"rankBox\">\n",
       " <img alt=\"변동없음\" height=\"10\" src=\"https://ssl.pstatic.net/static/comic/images/migration/common/arrow_no.gif\" title=\"변동없음\" width=\"7\"/> 0\n",
       " \t\t\t\t\t\t\n",
       " \t\t\t\t\t\n",
       " \t\t\t\t</span>\n",
       " </li>,\n",
       " <li class=\"rank07\">\n",
       " <a href=\"/webtoon/detail?titleId=784129&amp;no=7\" onclick=\"nclk_v2(event,'rnk*p.cont','784129','7')\" title=\"그 해 우리는 - 초여름이 좋아!-7화\">그 해 우리는 - 초여름이 좋아!-7화</a>\n",
       " <span class=\"rankBox\">\n",
       " <img alt=\"변동없음\" height=\"10\" src=\"https://ssl.pstatic.net/static/comic/images/migration/common/arrow_no.gif\" title=\"변동없음\" width=\"7\"/> 0\n",
       " \t\t\t\t\t\t\n",
       " \t\t\t\t\t\n",
       " \t\t\t\t</span>\n",
       " </li>,\n",
       " <li class=\"rank08\">\n",
       " <a href=\"/webtoon/detail?titleId=710751&amp;no=171\" onclick=\"nclk_v2(event,'rnk*p.cont','710751','8')\" title=\"약한영웅-170화\">약한영웅-170화</a>\n",
       " <span class=\"rankBox\">\n",
       " <img alt=\"변동없음\" height=\"10\" src=\"https://ssl.pstatic.net/static/comic/images/migration/common/arrow_no.gif\" title=\"변동없음\" width=\"7\"/> 0\n",
       " \t\t\t\t\t\t\n",
       " \t\t\t\t\t\n",
       " \t\t\t\t</span>\n",
       " </li>,\n",
       " <li class=\"rank09\">\n",
       " <a href=\"/webtoon/detail?titleId=774831&amp;no=25\" onclick=\"nclk_v2(event,'rnk*p.cont','774831','9')\" title=\"수희0(tngmlek0)-25화\">수희0(tngmlek0)-25화</a>\n",
       " <span class=\"rankBox\">\n",
       " <img alt=\"변동없음\" height=\"10\" src=\"https://ssl.pstatic.net/static/comic/images/migration/common/arrow_no.gif\" title=\"변동없음\" width=\"7\"/> 0\n",
       " \t\t\t\t\t\t\n",
       " \t\t\t\t\t\n",
       " \t\t\t\t</span>\n",
       " </li>,\n",
       " <li class=\"rank10\">\n",
       " <a href=\"/webtoon/detail?titleId=761104&amp;no=57\" onclick=\"nclk_v2(event,'rnk*p.cont','761104','10')\" title=\"곱게 키웠더니, 짐승-57화\">곱게 키웠더니, 짐승-57화</a>\n",
       " <span class=\"rankBox\">\n",
       " <img alt=\"변동없음\" height=\"10\" src=\"https://ssl.pstatic.net/static/comic/images/migration/common/arrow_no.gif\" title=\"변동없음\" width=\"7\"/> 0\n",
       " \t\t\t\t\t\t\n",
       " \t\t\t\t\t\n",
       " \t\t\t\t</span>\n",
       " </li>]"
      ]
     },
     "execution_count": 34,
     "metadata": {},
     "output_type": "execute_result"
    }
   ],
   "source": [
    "## 한번에 가져오기\n",
    "rank1.find_next_siblings(\"li\")  #rank1을 기준으로 다음 형제를 모두 가져옴"
   ]
  },
  {
   "cell_type": "code",
   "execution_count": 35,
   "metadata": {},
   "outputs": [
    {
     "name": "stdout",
     "output_type": "stream",
     "text": [
      "<a href=\"/webtoon/detail?titleId=736277&amp;no=110\" onclick=\"nclk_v2(event,'rnk*p.cont','736277','1')\" title=\"싸움독학-110화 : 술자리 예절!\">싸움독학-110화 : 술자리 예절!</a>\n"
     ]
    }
   ],
   "source": [
    "webtoon = soup.find('a',text =\"싸움독학-110화 : 술자리 예절!\")\n",
    "print(webtoon)"
   ]
  },
  {
   "cell_type": "code",
   "execution_count": null,
   "metadata": {},
   "outputs": [],
   "source": []
  }
 ],
 "metadata": {
  "interpreter": {
   "hash": "63a2fa8701088d0273300603ea724908e621c0cb8e68adc22257679c104300ae"
  },
  "kernelspec": {
   "display_name": "Python 3.8.5 64-bit ('tensorflow': conda)",
   "language": "python",
   "name": "python3"
  },
  "language_info": {
   "codemirror_mode": {
    "name": "ipython",
    "version": 3
   },
   "file_extension": ".py",
   "mimetype": "text/x-python",
   "name": "python",
   "nbconvert_exporter": "python",
   "pygments_lexer": "ipython3",
   "version": "3.8.5"
  },
  "orig_nbformat": 4
 },
 "nbformat": 4,
 "nbformat_minor": 2
}
